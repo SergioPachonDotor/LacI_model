{
 "cells": [
  {
   "cell_type": "code",
   "execution_count": 3,
   "metadata": {},
   "outputs": [],
   "source": [
    "from Sims import Simulation as sim\n",
    "\n",
    "import pandas as pd\n",
    "import numpy as np\n",
    "import matplotlib.pyplot as plt"
   ]
  },
  {
   "cell_type": "markdown",
   "metadata": {},
   "source": [
    "## Estado Inicial Encendido"
   ]
  },
  {
   "cell_type": "code",
   "execution_count": 4,
   "metadata": {},
   "outputs": [
    {
     "name": "stderr",
     "output_type": "stream",
     "text": [
      "100%|██████████| 50/50 [00:49<00:00,  1.01it/s]\n"
     ]
    }
   ],
   "source": [
    "file = f'.tests/test_double_time_distribution_on'\n",
    "\n",
    "toy = sim(\n",
    "            TMG=20, \n",
    "            cells=50, \n",
    "            file=file, \n",
    "            state='on'\n",
    "            )\n",
    "            \n",
    "toy.get_time_distribution(mode='double')"
   ]
  },
  {
   "cell_type": "code",
   "execution_count": 5,
   "metadata": {},
   "outputs": [
    {
     "data": {
      "text/html": [
       "<div>\n",
       "<style scoped>\n",
       "    .dataframe tbody tr th:only-of-type {\n",
       "        vertical-align: middle;\n",
       "    }\n",
       "\n",
       "    .dataframe tbody tr th {\n",
       "        vertical-align: top;\n",
       "    }\n",
       "\n",
       "    .dataframe thead th {\n",
       "        text-align: right;\n",
       "    }\n",
       "</style>\n",
       "<table border=\"1\" class=\"dataframe\">\n",
       "  <thead>\n",
       "    <tr style=\"text-align: right;\">\n",
       "      <th></th>\n",
       "      <th>Cell</th>\n",
       "      <th>On_Time</th>\n",
       "      <th>Off_Time</th>\n",
       "      <th>Promoter_State</th>\n",
       "    </tr>\n",
       "  </thead>\n",
       "  <tbody>\n",
       "    <tr>\n",
       "      <th>0</th>\n",
       "      <td>1</td>\n",
       "      <td>498.4727</td>\n",
       "      <td>0.0000</td>\n",
       "      <td>off</td>\n",
       "    </tr>\n",
       "    <tr>\n",
       "      <th>1</th>\n",
       "      <td>1</td>\n",
       "      <td>498.4727</td>\n",
       "      <td>574.7892</td>\n",
       "      <td>on</td>\n",
       "    </tr>\n",
       "    <tr>\n",
       "      <th>2</th>\n",
       "      <td>2</td>\n",
       "      <td>737.3732</td>\n",
       "      <td>0.0000</td>\n",
       "      <td>off</td>\n",
       "    </tr>\n",
       "    <tr>\n",
       "      <th>3</th>\n",
       "      <td>2</td>\n",
       "      <td>737.3732</td>\n",
       "      <td>843.3748</td>\n",
       "      <td>on</td>\n",
       "    </tr>\n",
       "    <tr>\n",
       "      <th>4</th>\n",
       "      <td>3</td>\n",
       "      <td>54.0890</td>\n",
       "      <td>0.0000</td>\n",
       "      <td>off</td>\n",
       "    </tr>\n",
       "    <tr>\n",
       "      <th>...</th>\n",
       "      <td>...</td>\n",
       "      <td>...</td>\n",
       "      <td>...</td>\n",
       "      <td>...</td>\n",
       "    </tr>\n",
       "    <tr>\n",
       "      <th>95</th>\n",
       "      <td>48</td>\n",
       "      <td>616.5200</td>\n",
       "      <td>4559.2525</td>\n",
       "      <td>on</td>\n",
       "    </tr>\n",
       "    <tr>\n",
       "      <th>96</th>\n",
       "      <td>49</td>\n",
       "      <td>2088.2538</td>\n",
       "      <td>0.0000</td>\n",
       "      <td>off</td>\n",
       "    </tr>\n",
       "    <tr>\n",
       "      <th>97</th>\n",
       "      <td>49</td>\n",
       "      <td>2088.2538</td>\n",
       "      <td>2237.4438</td>\n",
       "      <td>on</td>\n",
       "    </tr>\n",
       "    <tr>\n",
       "      <th>98</th>\n",
       "      <td>50</td>\n",
       "      <td>425.3610</td>\n",
       "      <td>0.0000</td>\n",
       "      <td>off</td>\n",
       "    </tr>\n",
       "    <tr>\n",
       "      <th>99</th>\n",
       "      <td>50</td>\n",
       "      <td>425.3610</td>\n",
       "      <td>5752.0095</td>\n",
       "      <td>on</td>\n",
       "    </tr>\n",
       "  </tbody>\n",
       "</table>\n",
       "<p>100 rows × 4 columns</p>\n",
       "</div>"
      ],
      "text/plain": [
       "    Cell    On_Time   Off_Time Promoter_State\n",
       "0      1   498.4727     0.0000            off\n",
       "1      1   498.4727   574.7892             on\n",
       "2      2   737.3732     0.0000            off\n",
       "3      2   737.3732   843.3748             on\n",
       "4      3    54.0890     0.0000            off\n",
       "..   ...        ...        ...            ...\n",
       "95    48   616.5200  4559.2525             on\n",
       "96    49  2088.2538     0.0000            off\n",
       "97    49  2088.2538  2237.4438             on\n",
       "98    50   425.3610     0.0000            off\n",
       "99    50   425.3610  5752.0095             on\n",
       "\n",
       "[100 rows x 4 columns]"
      ]
     },
     "execution_count": 5,
     "metadata": {},
     "output_type": "execute_result"
    }
   ],
   "source": [
    "df_on = pd.read_csv(f'{file}.csv', delimiter=',')\n",
    "df_on"
   ]
  },
  {
   "cell_type": "markdown",
   "metadata": {},
   "source": [
    "### Células encendidas que se apagan"
   ]
  },
  {
   "cell_type": "code",
   "execution_count": 6,
   "metadata": {},
   "outputs": [
    {
     "data": {
      "image/png": "[encoded data removed]",
      "text/plain": [
       "<Figure size 432x288 with 1 Axes>"
      ]
     },
     "metadata": {
      "needs_background": "light"
     },
     "output_type": "display_data"
    }
   ],
   "source": [
    "plt.hist(df_on['Off_Time'].unique()[1::], bins=30, density=True, color='red', alpha=0.5, label=r'$\\tau_{off}$');\n",
    "plt.legend(loc=5);\n",
    "plt.xlabel(r'$\\tau_{off}$');\n",
    "plt.title(f'Double Switch Time Distribution for on State');\n"
   ]
  },
  {
   "cell_type": "markdown",
   "metadata": {},
   "source": [
    "### Células que una vez se apagan, se encienden"
   ]
  },
  {
   "cell_type": "code",
   "execution_count": 7,
   "metadata": {},
   "outputs": [
    {
     "data": {
      "image/png": "[encoded data removed]",
      "text/plain": [
       "<Figure size 432x288 with 1 Axes>"
      ]
     },
     "metadata": {
      "needs_background": "light"
     },
     "output_type": "display_data"
    }
   ],
   "source": [
    "plt.hist(df_on['On_Time'].unique(), bins=30, density=True, color='green', alpha=0.5, label=r'$\\tau_{on}$');\n",
    "plt.legend(loc=5);\n",
    "plt.xlabel(r'$\\tau_{on}$');\n",
    "plt.title(f'Double Switch Time Distribution for on State');"
   ]
  },
  {
   "cell_type": "markdown",
   "metadata": {},
   "source": [
    "## Estado Inicial Apagado"
   ]
  },
  {
   "cell_type": "code",
   "execution_count": 8,
   "metadata": {},
   "outputs": [
    {
     "name": "stderr",
     "output_type": "stream",
     "text": [
      "100%|██████████| 50/50 [00:37<00:00,  1.33it/s]\n"
     ]
    }
   ],
   "source": [
    "file = f'.tests/test_double_time_distribution_off'\n",
    "\n",
    "toy = sim(\n",
    "            TMG=20, \n",
    "            cells=50, \n",
    "            file=file, \n",
    "            state='off'\n",
    "            )\n",
    "            \n",
    "toy.get_time_distribution(mode='double')"
   ]
  },
  {
   "cell_type": "code",
   "execution_count": 9,
   "metadata": {},
   "outputs": [],
   "source": [
    "df_off = pd.read_csv(f'{file}.csv', delimiter=',')"
   ]
  },
  {
   "cell_type": "markdown",
   "metadata": {},
   "source": [
    "### Células apagadas que se encienden"
   ]
  },
  {
   "cell_type": "code",
   "execution_count": 10,
   "metadata": {},
   "outputs": [
    {
     "data": {
      "image/png": "[encoded data removed]",
      "text/plain": [
       "<Figure size 432x288 with 1 Axes>"
      ]
     },
     "metadata": {
      "needs_background": "light"
     },
     "output_type": "display_data"
    }
   ],
   "source": [
    "k_off = 1/np.mean(df_off.On_Time)\n",
    "x = np.linspace(0,30000,100)\n",
    "plt.plot(x,k_off*np.exp(-k_off*x), color='k')\n",
    "plt.hist(df_off['On_Time'].unique()[::], bins=30, density=True, color='green', alpha=0.5, label=r'$\\tau_{on}$');\n",
    "plt.legend(loc=5);\n",
    "plt.xlabel(r'$\\tau_{on}$');\n",
    "plt.title(f'Double Switch Time Distribution for off State');"
   ]
  },
  {
   "cell_type": "code",
   "execution_count": 11,
   "metadata": {},
   "outputs": [
    {
     "data": {
      "text/plain": [
       "Index(['Cell', 'On_Time', 'Off_Time', 'Promoter_State'], dtype='object')"
      ]
     },
     "execution_count": 11,
     "metadata": {},
     "output_type": "execute_result"
    }
   ],
   "source": [
    "df_off.columns"
   ]
  },
  {
   "cell_type": "markdown",
   "metadata": {},
   "source": [
    "### Células que una vez encendidas, se apagan"
   ]
  },
  {
   "cell_type": "code",
   "execution_count": 12,
   "metadata": {},
   "outputs": [
    {
     "data": {
      "image/png": "[encoded data removed]",
      "text/plain": [
       "<Figure size 432x288 with 1 Axes>"
      ]
     },
     "metadata": {
      "needs_background": "light"
     },
     "output_type": "display_data"
    }
   ],
   "source": [
    "# k_off = 1/np.mean(df_off.Off_Time)\n",
    "# x = np.linspace(0,30000,100)\n",
    "# plt.plot(x,k_off*np.exp(-k_off*x), color='k')\n",
    "plt.hist(df_off['Off_Time'].unique()[1::], bins=30, density=True, color='red', alpha=0.5, label=r'$\\tau_{off}$');\n",
    "plt.legend(loc=5);\n",
    "plt.xlabel(r'$\\tau_{off}$');\n",
    "plt.title(f'Initial State On\\nCells Turning Off After Being On\\n20 TMG');\n",
    "# plt.xscale('log');\n",
    "# plt.xlim(-1, 2)"
   ]
  },
  {
   "cell_type": "code",
   "execution_count": 13,
   "metadata": {},
   "outputs": [],
   "source": [
    "# plt.scatter(df_on['On_Time'], df_on['Off_Time'], color='green', alpha=0.5, label=r'$\\tau_{on}$');\n",
    "# df_on['On_Time'].unique().shape\n",
    "# df_off['Off_Time'].unique().shape"
   ]
  },
  {
   "cell_type": "code",
   "execution_count": 14,
   "metadata": {},
   "outputs": [],
   "source": [
    "    # r_corr_on = np.corrcoef(df_on_ontime_fixed, df_on_offtime_fixed)[0][1]\n",
    "    # r_corr_off = np.corrcoef(df_off_ontime_fixed, df_off_offtime_fixed)[0][1]\n",
    "    # df_on_offtime_fixed = [float(df_on_offtime[i]) for i in range(len(df_on_offtime))]\n",
    "    # df_on_ontime_fixed = [float(df_on_ontime[i]) - float(df_on_offtime[i]) for i in range(len(df_on_ontime))]\n",
    "\n",
    "    # df_off_ontime_fixed = [float(df_off_ontime[i]) for i in range(len(df_off_ontime))]\n",
    "    # df_off_offtime_fixed = [float(df_off_offtime[i]) - float(df_off_ontime[i]) for i in range(len(df_off_offtime))]"
   ]
  }
 ],
 "metadata": {
  "interpreter": {
   "hash": "bc36f5ec3686263487aae88a1e16dc0b2136ee126b5b26bea18a8846ea371dab"
  },
  "kernelspec": {
   "display_name": "Python 3.9.7 64-bit ('synbio': conda)",
   "language": "python",
   "name": "python3"
  },
  "language_info": {
   "codemirror_mode": {
    "name": "ipython",
    "version": 3
   },
   "file_extension": ".py",
   "mimetype": "text/x-python",
   "name": "python",
   "nbconvert_exporter": "python",
   "pygments_lexer": "ipython3",
   "version": "3.9.7"
  },
  "orig_nbformat": 4
 },
 "nbformat": 4,
 "nbformat_minor": 2
}
