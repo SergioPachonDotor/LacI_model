{
 "metadata": {
  "language_info": {
   "codemirror_mode": {
    "name": "ipython",
    "version": 3
   },
   "file_extension": ".py",
   "mimetype": "text/x-python",
   "name": "python",
   "nbconvert_exporter": "python",
   "pygments_lexer": "ipython3",
   "version": 3
  },
  "orig_nbformat": 2
 },
 "nbformat": 4,
 "nbformat_minor": 2,
 "cells": [
  {
   "cell_type": "code",
   "execution_count": null,
   "metadata": {},
   "outputs": [],
   "source": [
    "for cell in range(cells): \n",
    "\n",
    "    #Initial Values\n",
    "    tau_time = 0\n",
    "    sampling_time=1\n",
    "    tref=0\n",
    "    #tau_time_p = 0\n",
    "    #_Species_Quantity_\n",
    "    r_y = 0\n",
    "    y = 0\n",
    "    R = 0.04 \n",
    "\n",
    "    beta = 0.00123 * pow(TMG, 0.6)\n",
    "    R_mono = k_R/gamma\n",
    "    promoter = 'off'  \n",
    "        \n",
    "    counter = 0\n",
    "    reaction_number = 4\n",
    "    a_j_p = [i for i in range(2)]\n",
    "    a_j = [i for i in range(reaction_number)]\n",
    "\n",
    "    while counter < steps:\n",
    "        t_counter = 0\n",
    "        #_____Functions_____\n",
    "        a_j[0] = 0.3*DNA                       # Transcription rate (0.3/min)\n",
    "        a_j[1] = 0.120 * mRNA                    # mRNA Degradation Rate (2.5 min)\n",
    "\n",
    "        a_total = sum(a_j)\n",
    "        tau = (1/a_total)*np.log(1/rand())\n",
    "        if tau_time+tau<tref:\n",
    "            tau_time += tau\n",
    "            dart = a_total * rand()\n",
    "            cms = np.cumsum(a_j)\n",
    "            nn=0\n",
    "            for m in cms:\n",
    "                if dart<m:\n",
    "                    if nn == 0:\n",
    "                else: \n",
    "                    nn+=1\n",
    "                \n",
    "            tau_time+=tau\n",
    "        \n",
    "        else:        \n",
    "            tau_time=tref\n",
    "            tref+=sampling_time\n",
    "                    "
   ]
  }
 ]
}